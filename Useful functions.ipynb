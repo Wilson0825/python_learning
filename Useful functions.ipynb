{
 "cells": [
  {
   "cell_type": "markdown",
   "metadata": {},
   "source": [
    "### Timer decorator"
   ]
  },
  {
   "cell_type": "code",
   "execution_count": null,
   "metadata": {},
   "outputs": [],
   "source": [
    "import time\n",
    "from functools import wraps\n",
    "\n",
    "def timer(func):\n",
    "    \"\"\"A decorator that prints how long a function took to run.\"\"\"\n",
    "    # Define the wrapper function to return\n",
    "    @wraps(func)\n",
    "    def wrapper(*args, **kwargs):\n",
    "        # When wrapper() is called, get the current time\n",
    "        t_start = time.time()\n",
    "        # Call the decorated function and store the result\n",
    "        result = func(*args, **kwargs)\n",
    "        # Get the total time it took to run, and print it\n",
    "        t_total = time.time() - t_start\n",
    "        print('{} took {}s'.format(func.__name__, t_total))\n",
    "        return result\n",
    "    return wrapper"
   ]
  },
  {
   "cell_type": "code",
   "execution_count": null,
   "metadata": {},
   "outputs": [],
   "source": [
    "def memorize(func):\n",
    "    \"\"\"Store the results of the decorated function for fast lookup \"\"\"\n",
    "    # Store results in a dict that maps arguments to results  \n",
    "    cache = {}\n",
    "    # Define the wrapper function to return.\n",
    "    def wrapper(*args, **kwargs):\n",
    "        # If these arguments haven't been seen before\n",
    "        if (args, kwargs) not in cache:\n",
    "            # Call func() and store the result\n",
    "            cache[(args, kwargs)] = func(*args, **kwargs)\n",
    "        return cache[(args, kwargs)]\n",
    "    return wrapper"
   ]
  }
 ],
 "metadata": {
  "kernelspec": {
   "display_name": "Python 3",
   "language": "python",
   "name": "python3"
  },
  "language_info": {
   "codemirror_mode": {
    "name": "ipython",
    "version": 3
   },
   "file_extension": ".py",
   "mimetype": "text/x-python",
   "name": "python",
   "nbconvert_exporter": "python",
   "pygments_lexer": "ipython3",
   "version": "3.7.3"
  }
 },
 "nbformat": 4,
 "nbformat_minor": 2
}
